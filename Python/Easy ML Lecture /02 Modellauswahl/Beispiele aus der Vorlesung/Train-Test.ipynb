{
 "cells": [
  {
   "cell_type": "markdown",
   "metadata": {},
   "source": [
    "## Train / Test"
   ]
  },
  {
   "cell_type": "code",
   "execution_count": 1,
   "metadata": {},
   "outputs": [
    {
     "data": {
      "text/html": [
       "<div>\n",
       "<style scoped>\n",
       "    .dataframe tbody tr th:only-of-type {\n",
       "        vertical-align: middle;\n",
       "    }\n",
       "\n",
       "    .dataframe tbody tr th {\n",
       "        vertical-align: top;\n",
       "    }\n",
       "\n",
       "    .dataframe thead th {\n",
       "        text-align: right;\n",
       "    }\n",
       "</style>\n",
       "<table border=\"1\" class=\"dataframe\">\n",
       "  <thead>\n",
       "    <tr style=\"text-align: right;\">\n",
       "      <th></th>\n",
       "      <th>Quadratmeter</th>\n",
       "      <th>Kaltmiete</th>\n",
       "    </tr>\n",
       "  </thead>\n",
       "  <tbody>\n",
       "    <tr>\n",
       "      <th>0</th>\n",
       "      <td>70</td>\n",
       "      <td>771.45</td>\n",
       "    </tr>\n",
       "    <tr>\n",
       "      <th>1</th>\n",
       "      <td>72</td>\n",
       "      <td>772.22</td>\n",
       "    </tr>\n",
       "    <tr>\n",
       "      <th>2</th>\n",
       "      <td>91</td>\n",
       "      <td>1058.01</td>\n",
       "    </tr>\n",
       "    <tr>\n",
       "      <th>3</th>\n",
       "      <td>58</td>\n",
       "      <td>650.30</td>\n",
       "    </tr>\n",
       "    <tr>\n",
       "      <th>4</th>\n",
       "      <td>49</td>\n",
       "      <td>522.49</td>\n",
       "    </tr>\n",
       "  </tbody>\n",
       "</table>\n",
       "</div>"
      ],
      "text/plain": [
       "   Quadratmeter  Kaltmiete\n",
       "0            70     771.45\n",
       "1            72     772.22\n",
       "2            91    1058.01\n",
       "3            58     650.30\n",
       "4            49     522.49"
      ]
     },
     "execution_count": 1,
     "metadata": {},
     "output_type": "execute_result"
    }
   ],
   "source": [
    "import pandas as pd\n",
    "\n",
    "df = pd.read_csv(\"./monatsmieten.csv\")\n",
    "df.head()"
   ]
  },
  {
   "cell_type": "code",
   "execution_count": 2,
   "metadata": {},
   "outputs": [
    {
     "data": {
      "text/plain": [
       "array([[ 689.9 ],\n",
       "       [ 940.01],\n",
       "       [ 391.21],\n",
       "       [ 760.97],\n",
       "       [1291.  ],\n",
       "       [ 265.33],\n",
       "       [ 582.11],\n",
       "       [ 548.91],\n",
       "       [ 721.01],\n",
       "       [ 121.39],\n",
       "       [ 606.83],\n",
       "       [ 552.67],\n",
       "       [ 500.94],\n",
       "       [ 711.86],\n",
       "       [ 625.73],\n",
       "       [ 929.82],\n",
       "       [ 736.02],\n",
       "       [ 519.44],\n",
       "       [ 824.46],\n",
       "       [ 757.46],\n",
       "       [ 884.43],\n",
       "       [ 772.22],\n",
       "       [ 421.27],\n",
       "       [ 626.56],\n",
       "       [ 722.78],\n",
       "       [ 571.74],\n",
       "       [ 553.72],\n",
       "       [ 666.79],\n",
       "       [1029.  ],\n",
       "       [ 728.16],\n",
       "       [ 605.54],\n",
       "       [ 453.34],\n",
       "       [ 576.75],\n",
       "       [ 650.3 ],\n",
       "       [ 771.45],\n",
       "       [ 484.91],\n",
       "       [ 830.63]])"
      ]
     },
     "execution_count": 2,
     "metadata": {},
     "output_type": "execute_result"
    }
   ],
   "source": [
    "from sklearn.model_selection import train_test_split\n",
    "\n",
    "X = df[[\"Quadratmeter\"]].values\n",
    "Y = df[[\"Kaltmiete\"]].values\n",
    "\n",
    "X_train, X_test, y_train, y_test = train_test_split( X, Y, random_state = 0, \n",
    "                                                    test_size = 0.25)\n",
    "\n",
    "y_train"
   ]
  },
  {
   "cell_type": "code",
   "execution_count": 3,
   "metadata": {},
   "outputs": [
    {
     "data": {
      "text/plain": [
       "array([[ 60],\n",
       "       [ 89],\n",
       "       [ 33],\n",
       "       [ 70],\n",
       "       [109],\n",
       "       [ 25],\n",
       "       [ 50],\n",
       "       [ 47],\n",
       "       [ 62],\n",
       "       [ 11],\n",
       "       [ 55],\n",
       "       [ 55],\n",
       "       [ 42],\n",
       "       [ 60],\n",
       "       [ 61],\n",
       "       [ 81],\n",
       "       [ 62],\n",
       "       [ 50],\n",
       "       [ 70],\n",
       "       [ 76],\n",
       "       [ 88],\n",
       "       [ 72],\n",
       "       [ 35],\n",
       "       [ 56],\n",
       "       [ 72],\n",
       "       [ 48],\n",
       "       [ 52],\n",
       "       [ 64],\n",
       "       [ 93],\n",
       "       [ 68],\n",
       "       [ 51],\n",
       "       [ 40],\n",
       "       [ 51],\n",
       "       [ 58],\n",
       "       [ 70],\n",
       "       [ 48],\n",
       "       [ 79]], dtype=int64)"
      ]
     },
     "execution_count": 3,
     "metadata": {},
     "output_type": "execute_result"
    }
   ],
   "source": [
    "X_train"
   ]
  },
  {
   "cell_type": "code",
   "execution_count": 7,
   "metadata": {},
   "outputs": [
    {
     "data": {
      "image/png": "[encoded data removed]",
      "text/plain": [
       "<Figure size 432x288 with 1 Axes>"
      ]
     },
     "metadata": {
      "needs_background": "light"
     },
     "output_type": "display_data"
    }
   ],
   "source": [
    "%matplotlib inline\n",
    "import matplotlib.pyplot as plt\n",
    "\n",
    "plt.scatter(X_train, y_train)\n",
    "plt.scatter(X_test, y_test)\n",
    "plt.show()"
   ]
  },
  {
   "cell_type": "code",
   "execution_count": 5,
   "metadata": {},
   "outputs": [
    {
     "name": "stdout",
     "output_type": "stream",
     "text": [
      "Intercept: [18.42935284]\n",
      "Coef: [[10.72967643]]\n"
     ]
    }
   ],
   "source": [
    "from sklearn.linear_model import LinearRegression\n",
    "\n",
    "model = LinearRegression()\n",
    "model.fit(X_train, y_train)\n",
    "\n",
    "print(\"Intercept: \" + str(model.intercept_))\n",
    "print(\"Coef: \" + str(model.coef_))"
   ]
  },
  {
   "cell_type": "code",
   "execution_count": 6,
   "metadata": {},
   "outputs": [
    {
     "data": {
      "image/png": "[encoded data removed]",
      "text/plain": [
       "<Figure size 432x288 with 1 Axes>"
      ]
     },
     "metadata": {
      "needs_background": "light"
     },
     "output_type": "display_data"
    }
   ],
   "source": [
    "%matplotlib inline\n",
    "import matplotlib.pyplot as plt\n",
    "\n",
    "predicted = model.predict(X_test)\n",
    "\n",
    "plt.scatter(X_test, y_test, color = \"red\")\n",
    "plt.plot(X_test, predicted)\n",
    "plt.show()"
   ]
  },
  {
   "cell_type": "code",
   "execution_count": null,
   "metadata": {
    "collapsed": true
   },
   "outputs": [],
   "source": []
  }
 ],
 "metadata": {
  "kernelspec": {
   "display_name": "Python 3",
   "language": "python",
   "name": "python3"
  },
  "language_info": {
   "codemirror_mode": {
    "name": "ipython",
    "version": 3
   },
   "file_extension": ".py",
   "mimetype": "text/x-python",
   "name": "python",
   "nbconvert_exporter": "python",
   "pygments_lexer": "ipython3",
   "version": "3.7.1"
  }
 },
 "nbformat": 4,
 "nbformat_minor": 2
}
