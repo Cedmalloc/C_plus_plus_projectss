{
 "cells": [
  {
   "cell_type": "code",
   "execution_count": 18,
   "metadata": {},
   "outputs": [],
   "source": [
    "import pandas as pd \n",
    "from sklearn.model_selection import train_test_split\n",
    "from sklearn.linear_model import LinearRegression\n",
    "import matplotlib.pyplot as plt"
   ]
  },
  {
   "cell_type": "code",
   "execution_count": 19,
   "metadata": {},
   "outputs": [],
   "source": [
    "df = pd.read_csv(\"auto-mpg.csv\")\n",
    "df['liter/100km'] = 235.21/df['mpg']"
   ]
  },
  {
   "cell_type": "code",
   "execution_count": 20,
   "metadata": {},
   "outputs": [
    {
     "data": {
      "text/html": [
       "<div>\n",
       "<style scoped>\n",
       "    .dataframe tbody tr th:only-of-type {\n",
       "        vertical-align: middle;\n",
       "    }\n",
       "\n",
       "    .dataframe tbody tr th {\n",
       "        vertical-align: top;\n",
       "    }\n",
       "\n",
       "    .dataframe thead th {\n",
       "        text-align: right;\n",
       "    }\n",
       "</style>\n",
       "<table border=\"1\" class=\"dataframe\">\n",
       "  <thead>\n",
       "    <tr style=\"text-align: right;\">\n",
       "      <th></th>\n",
       "      <th>mpg</th>\n",
       "      <th>cylinders</th>\n",
       "      <th>displacement</th>\n",
       "      <th>horsepower</th>\n",
       "      <th>weight</th>\n",
       "      <th>acceleration</th>\n",
       "      <th>model year</th>\n",
       "      <th>origin</th>\n",
       "      <th>car name</th>\n",
       "      <th>liter/100km</th>\n",
       "    </tr>\n",
       "  </thead>\n",
       "  <tbody>\n",
       "    <tr>\n",
       "      <th>0</th>\n",
       "      <td>18.0</td>\n",
       "      <td>8</td>\n",
       "      <td>307.0</td>\n",
       "      <td>130</td>\n",
       "      <td>3504</td>\n",
       "      <td>12.0</td>\n",
       "      <td>70</td>\n",
       "      <td>1</td>\n",
       "      <td>chevrolet chevelle malibu</td>\n",
       "      <td>13.067222</td>\n",
       "    </tr>\n",
       "    <tr>\n",
       "      <th>1</th>\n",
       "      <td>15.0</td>\n",
       "      <td>8</td>\n",
       "      <td>350.0</td>\n",
       "      <td>165</td>\n",
       "      <td>3693</td>\n",
       "      <td>11.5</td>\n",
       "      <td>70</td>\n",
       "      <td>1</td>\n",
       "      <td>buick skylark 320</td>\n",
       "      <td>15.680667</td>\n",
       "    </tr>\n",
       "    <tr>\n",
       "      <th>2</th>\n",
       "      <td>18.0</td>\n",
       "      <td>8</td>\n",
       "      <td>318.0</td>\n",
       "      <td>150</td>\n",
       "      <td>3436</td>\n",
       "      <td>11.0</td>\n",
       "      <td>70</td>\n",
       "      <td>1</td>\n",
       "      <td>plymouth satellite</td>\n",
       "      <td>13.067222</td>\n",
       "    </tr>\n",
       "    <tr>\n",
       "      <th>3</th>\n",
       "      <td>16.0</td>\n",
       "      <td>8</td>\n",
       "      <td>304.0</td>\n",
       "      <td>150</td>\n",
       "      <td>3433</td>\n",
       "      <td>12.0</td>\n",
       "      <td>70</td>\n",
       "      <td>1</td>\n",
       "      <td>amc rebel sst</td>\n",
       "      <td>14.700625</td>\n",
       "    </tr>\n",
       "    <tr>\n",
       "      <th>4</th>\n",
       "      <td>17.0</td>\n",
       "      <td>8</td>\n",
       "      <td>302.0</td>\n",
       "      <td>140</td>\n",
       "      <td>3449</td>\n",
       "      <td>10.5</td>\n",
       "      <td>70</td>\n",
       "      <td>1</td>\n",
       "      <td>ford torino</td>\n",
       "      <td>13.835882</td>\n",
       "    </tr>\n",
       "  </tbody>\n",
       "</table>\n",
       "</div>"
      ],
      "text/plain": [
       "    mpg  cylinders  displacement  horsepower  weight  acceleration  \\\n",
       "0  18.0          8         307.0         130    3504          12.0   \n",
       "1  15.0          8         350.0         165    3693          11.5   \n",
       "2  18.0          8         318.0         150    3436          11.0   \n",
       "3  16.0          8         304.0         150    3433          12.0   \n",
       "4  17.0          8         302.0         140    3449          10.5   \n",
       "\n",
       "   model year  origin                   car name  liter/100km  \n",
       "0          70       1  chevrolet chevelle malibu    13.067222  \n",
       "1          70       1          buick skylark 320    15.680667  \n",
       "2          70       1         plymouth satellite    13.067222  \n",
       "3          70       1              amc rebel sst    14.700625  \n",
       "4          70       1                ford torino    13.835882  "
      ]
     },
     "execution_count": 20,
     "metadata": {},
     "output_type": "execute_result"
    }
   ],
   "source": [
    "df.head()"
   ]
  },
  {
   "cell_type": "code",
   "execution_count": 27,
   "metadata": {},
   "outputs": [
    {
     "data": {
      "text/plain": [
       "<matplotlib.collections.PathCollection at 0x7fb52c15d940>"
      ]
     },
     "execution_count": 27,
     "metadata": {},
     "output_type": "execute_result"
    },
    {
     "data": {
      "image/png": "[encoded data removed]",
      "text/plain": [
       "<Figure size 432x288 with 1 Axes>"
      ]
     },
     "metadata": {
      "needs_background": "light"
     },
     "output_type": "display_data"
    }
   ],
   "source": [
    "%matplotlib inline \n",
    "plt.scatter(df['weight'],df['mpg'])"
   ]
  },
  {
   "cell_type": "code",
   "execution_count": 28,
   "metadata": {},
   "outputs": [],
   "source": [
    "X = df[[\"weight\",\"horsepower\"]].values\n",
    "Y = df[[\"mpg\"]].values\n",
    "X_train,X_test,Y_train,Y_test = train_test_split(X,Y,test_size = 0.2,random_state=0)"
   ]
  },
  {
   "cell_type": "code",
   "execution_count": 29,
   "metadata": {},
   "outputs": [
    {
     "name": "stdout",
     "output_type": "stream",
     "text": [
      "Y intersect b: [45.96119618]\n",
      "Slope a: [[-0.00602569 -0.04392749]]\n"
     ]
    }
   ],
   "source": [
    "from sklearn.linear_model import LinearRegression\n",
    "model = LinearRegression()\n",
    "model.fit(X_train, Y_train)\n",
    "\n",
    "print (\"Y intersect b: \" + str(model.intercept_))\n",
    "print (\"Slope a: \" + str(model.coef_))"
   ]
  },
  {
   "cell_type": "code",
   "execution_count": 54,
   "metadata": {},
   "outputs": [
    {
     "name": "stdout",
     "output_type": "stream",
     "text": [
      "[[2125   75]\n",
      " [2890   88]\n",
      " [4456  160]\n",
      " [2125   63]\n",
      " [2145   67]\n",
      " [3210   90]\n",
      " [1968   60]\n",
      " [3250   67]\n",
      " [3102   95]\n",
      " [2279   88]\n",
      " [1834   60]\n",
      " [4380  180]\n",
      " [2740   88]\n",
      " [4997  150]\n",
      " [4360  155]\n",
      " [2210   75]\n",
      " [2795  115]\n",
      " [4077  150]\n",
      " [2265   90]\n",
      " [2670   90]\n",
      " [3169  129]\n",
      " [3632  110]\n",
      " [2408   90]\n",
      " [2945  110]\n",
      " [2144   76]\n",
      " [4209  165]\n",
      " [2620   92]\n",
      " [2720   88]\n",
      " [2914  100]\n",
      " [3672  150]\n",
      " [2807  122]\n",
      " [2635   74]\n",
      " [2511   76]\n",
      " [1963   67]\n",
      " [3039  110]\n",
      " [2711   90]\n",
      " [1773   65]\n",
      " [4464  150]\n",
      " [4190  150]\n",
      " [4354  220]\n",
      " [3693  165]\n",
      " [1850   67]\n",
      " [2542   75]\n",
      " [4141  140]\n",
      " [1940   78]\n",
      " [4335  149]\n",
      " [2525   84]\n",
      " [4699  150]\n",
      " [3880  145]\n",
      " [2789  100]\n",
      " [2246   75]\n",
      " [3563  170]\n",
      " [4376  200]\n",
      " [2408   72]\n",
      " [2188   78]\n",
      " [3160   76]\n",
      " [3060   88]\n",
      " [3353  105]\n",
      " [1795   53]\n",
      " [2226   86]\n",
      " [2833   95]\n",
      " [2108   75]\n",
      " [1990   71]\n",
      " [4341  198]\n",
      " [2189   69]\n",
      " [3897  105]\n",
      " [4312  215]\n",
      " [2640   88]\n",
      " [2672   87]\n",
      " [2110   65]\n",
      " [1800   60]\n",
      " [2155   68]\n",
      " [3725  129]\n",
      " [4140  145]\n",
      " [2904   95]\n",
      " [4129  153]\n",
      " [1955   70]\n",
      " [3425  145]\n",
      " [2045   68]]\n"
     ]
    }
   ],
   "source": [
    "print(X_test)"
   ]
  },
  {
   "cell_type": "code",
   "execution_count": 30,
   "metadata": {
    "scrolled": true
   },
   "outputs": [
    {
     "name": "stdout",
     "output_type": "stream",
     "text": [
      "[[29.86204512]\n",
      " [24.68133564]\n",
      " [12.0823272 ]\n",
      " [30.38917504]\n",
      " [30.09295129]\n",
      " [22.66526018]\n",
      " [31.46699069]\n",
      " [23.43456496]\n",
      " [23.09639713]\n",
      " [28.36303161]\n",
      " [32.27443301]\n",
      " [11.66172971]\n",
      " [25.58518899]\n",
      " [ 9.26170439]\n",
      " [12.88043081]\n",
      " [29.34986156]\n",
      " [24.06773379]\n",
      " [14.80533826]\n",
      " [28.35953627]\n",
      " [25.91913223]\n",
      " [21.19914121]\n",
      " [19.24386957]\n",
      " [27.49786275]\n",
      " [23.3835179 ]\n",
      " [29.70362954]\n",
      " [13.35103492]\n",
      " [26.1325617 ]\n",
      " [25.70570277]\n",
      " [24.00958919]\n",
      " [17.2457423 ]\n",
      " [23.68793307]\n",
      " [26.83287123]\n",
      " [27.49220168]\n",
      " [31.18962668]\n",
      " [22.81710314]\n",
      " [25.67207898]\n",
      " [32.42236257]\n",
      " [12.47339662]\n",
      " [14.1244354 ]\n",
      " [10.06129791]\n",
      " [16.46029043]\n",
      " [31.87052954]\n",
      " [27.34933281]\n",
      " [14.85896909]\n",
      " [30.84501511]\n",
      " [13.29463799]\n",
      " [27.05642209]\n",
      " [11.05735971]\n",
      " [16.21203645]\n",
      " [24.76280031]\n",
      " [29.13293675]\n",
      " [17.02399254]\n",
      " [10.80728261]\n",
      " [28.28855762]\n",
      " [29.35064424]\n",
      " [23.58152953]\n",
      " [23.65696851]\n",
      " [21.14467426]\n",
      " [32.81692733]\n",
      " [28.77024811]\n",
      " [24.71730746]\n",
      " [29.96448183]\n",
      " [30.85122311]\n",
      " [11.10603671]\n",
      " [29.73996598]\n",
      " [17.86669945]\n",
      " [10.53401431]\n",
      " [26.18775789]\n",
      " [26.03886333]\n",
      " [30.39170539]\n",
      " [32.47930644]\n",
      " [29.9887669 ]\n",
      " [17.84885813]\n",
      " [14.64535731]\n",
      " [24.28948354]\n",
      " [14.36021995]\n",
      " [31.10604971]\n",
      " [18.95372494]\n",
      " [30.65159269]]\n"
     ]
    }
   ],
   "source": [
    "predicted = model.predict(X_test)\n",
    "print(predicted)"
   ]
  },
  {
   "cell_type": "code",
   "execution_count": 64,
   "metadata": {},
   "outputs": [
    {
     "name": "stdout",
     "output_type": "stream",
     "text": [
      "[[29.86204512]]\n"
     ]
    }
   ],
   "source": [
    "a = [2125, 75]\n",
    "a = [a]\n",
    "predict = model.predict(a) \n",
    "print(predict)"
   ]
  },
  {
   "cell_type": "code",
   "execution_count": 32,
   "metadata": {},
   "outputs": [
    {
     "data": {
      "text/plain": [
       "0.697632764364343"
      ]
     },
     "execution_count": 32,
     "metadata": {},
     "output_type": "execute_result"
    }
   ],
   "source": [
    "model.score(X_test, Y_test)"
   ]
  }
 ],
 "metadata": {
  "kernelspec": {
   "display_name": "Python 3",
   "language": "python",
   "name": "python3"
  },
  "language_info": {
   "codemirror_mode": {
    "name": "ipython",
    "version": 3
   },
   "file_extension": ".py",
   "mimetype": "text/x-python",
   "name": "python",
   "nbconvert_exporter": "python",
   "pygments_lexer": "ipython3",
   "version": "3.6.10"
  }
 },
 "nbformat": 4,
 "nbformat_minor": 4
}
